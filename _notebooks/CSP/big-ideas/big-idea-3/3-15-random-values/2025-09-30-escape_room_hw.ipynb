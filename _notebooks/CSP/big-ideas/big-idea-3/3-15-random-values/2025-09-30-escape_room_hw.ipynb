{
 "cells": [
  {
   "cell_type": "raw",
   "id": "6e07d1a7",
   "metadata": {},
   "source": [
    "---\n",
    "layout: post\n",
    "title: \"Escape Room 3.15 - Hacks & Extensions\"\n",
    "description: \"Extended challenges and hacks for CSP 3.15 Escape Room - Random Values\"\n",
    "type: hacks\n",
    "toc: true\n",
    "comments: true\n",
    "permalink: /3.15/homework\n",
    "author: Team Debuggers\n",
    "---\n"
   ]
  },
  {
   "cell_type": "markdown",
   "id": "9f874417",
   "metadata": {},
   "source": [
    "# 🚀 Escape Room Hacks & Extensions\n",
    "\n",
    "<div style=\"background: linear-gradient(135deg, #6bb3ffff 0%, #24ee50ff 100%); color: white; padding: 20px; border-radius: 10px; text-align: center; margin: 20px 0;\">\n",
    "    <h2 style=\"margin: 0;\">💎 Master Level Challenges 💎</h2>\n",
    "    <p style=\"margin: 10px 0;\">Go beyond the escape room with advanced Random Value challenges!</p>\n",
    "</div>\n"
   ]
  },
  {
   "cell_type": "markdown",
   "id": "ca25df93",
   "metadata": {},
   "source": [
    "## 📋 Overview\n",
    "\n",
    "Congratulations on completing the escape room! These hacks are designed to:\n",
    "\n",
    "1. **Extend your learning** with more advanced algorithms\n",
    "2. **Apply concepts** to real-world scenarios\n",
    "3. **Create your own** string manipulation challenges\n",
    "4. **Explore optimization** and algorithm design\n",
    "\n",
    "### 🎯 Hack Categories:\n",
    "\n",
    "- **🔥 Fire Hacks**: Required challenges (choose 2/3)\n",
    "- **💎 Diamond Hacks**: Advanced optional challenges\n",
    "- **🎨 Creative Hacks**: Design your own problems\n",
    "\n",
    "---\n"
   ]
  },
  {
   "cell_type": "markdown",
   "id": "d97adba3",
   "metadata": {},
   "source": [
    "## Hacks\n",
    "\n",
    "## 🔥 Fire Hacks (choose 2/3)\n"
   ]
  },
  {
   "cell_type": "markdown",
   "id": "11975ff0",
   "metadata": {},
   "source": [
    "### Pseudocode Challenge Questions\n",
    "\n",
    "1. Write the description about Randomness in computing and the definition of RANDOM(a,b)."
   ]
  },
  {
   "cell_type": "code",
   "execution_count": null,
   "id": "2887c997",
   "metadata": {},
   "outputs": [],
   "source": []
  },
  {
   "cell_type": "markdown",
   "id": "a3b0d863",
   "metadata": {},
   "source": [
    "2. Pseudocode Random Values practice, generate your own Pseudocode function and define the possible values generated, then give the specific proability of each value\n",
    "```python\n",
    "# For example, write a pseudocode function that will give you 7 for a chacne of 20 times when you run 100 times\n",
    "```"
   ]
  },
  {
   "cell_type": "code",
   "execution_count": null,
   "id": "827bbb98",
   "metadata": {},
   "outputs": [],
   "source": []
  },
  {
   "cell_type": "markdown",
   "id": "a919f5db",
   "metadata": {},
   "source": [
    "3. Pseudocode/Concept Practice, given RANDOM(3,7), what values can be produced? \n"
   ]
  },
  {
   "cell_type": "code",
   "execution_count": null,
   "id": "54a2657c",
   "metadata": {},
   "outputs": [],
   "source": []
  },
  {
   "cell_type": "markdown",
   "id": "5a6c3e3f",
   "metadata": {},
   "source": [
    "4. What is the probability of getting 4 from RANDOM(3,7)? "
   ]
  },
  {
   "cell_type": "code",
   "execution_count": null,
   "id": "83be0f2e",
   "metadata": {},
   "outputs": [],
   "source": []
  },
  {
   "cell_type": "markdown",
   "id": "5bcc94dd",
   "metadata": {},
   "source": [
    "5. If Random (4,4) is called, what is the output and its probability? "
   ]
  },
  {
   "cell_type": "code",
   "execution_count": null,
   "id": "e1218cee",
   "metadata": {},
   "outputs": [],
   "source": []
  },
  {
   "cell_type": "markdown",
   "id": "26b75144",
   "metadata": {},
   "source": [
    "\n",
    "6. If you run Random(3,7) 100 times,  how many times would you expect to get a 6?"
   ]
  },
  {
   "cell_type": "code",
   "execution_count": null,
   "id": "3e1e35b5",
   "metadata": {},
   "outputs": [],
   "source": []
  },
  {
   "cell_type": "markdown",
   "id": "6e5c8bef",
   "metadata": {},
   "source": [
    "### Python Version Questions\n",
    "\n",
    "1. Write the description of random_range(start, end)\n",
    "\n",
    "```python\n",
    "# Describe what this function does and its parameters\n",
    "```"
   ]
  },
  {
   "cell_type": "code",
   "execution_count": null,
   "id": "a0b54a79",
   "metadata": {},
   "outputs": [],
   "source": []
  },
  {
   "cell_type": "markdown",
   "id": "5ba2ffe8",
   "metadata": {},
   "source": [
    "2. Simulate rolling two dice and show all possible sum outcomes\n",
    "\n",
    "```python\n",
    "# Die faces: 1, 2, 3, 4, 5, 6\n",
    "# Write code to show all possible sums when rolling two dice\n",
    "```"
   ]
  },
  {
   "cell_type": "code",
   "execution_count": null,
   "id": "e4a97455",
   "metadata": {},
   "outputs": [],
   "source": []
  },
  {
   "cell_type": "markdown",
   "id": "139d8271",
   "metadata": {},
   "source": [
    "3. Create a fortune teller where \"Try Again\" appears 40% of the time\n",
    "\n",
    "```python\n",
    "# Other responses: \"Yes\", \"No\", \"Maybe\"\n",
    "# Write code where \"Try Again\" has 40% probability\n",
    "```"
   ]
  },
  {
   "cell_type": "code",
   "execution_count": null,
   "id": "545ba2c1",
   "metadata": {},
   "outputs": [],
   "source": []
  },
  {
   "cell_type": "markdown",
   "id": "a295feeb",
   "metadata": {},
   "source": [
    "4. What values can this code produce? \n",
    "\n",
    "import random\n",
    "\n",
    "print(random.randint(4,9))"
   ]
  },
  {
   "cell_type": "code",
   "execution_count": null,
   "id": "87444447",
   "metadata": {},
   "outputs": [],
   "source": []
  },
  {
   "cell_type": "markdown",
   "id": "c4a4a107",
   "metadata": {},
   "source": [
    "5. If we run random.randint(1,10) 1000 times, about how many 3's would we expect?"
   ]
  },
  {
   "cell_type": "code",
   "execution_count": null,
   "id": "c84b86c1",
   "metadata": {},
   "outputs": [],
   "source": []
  },
  {
   "cell_type": "markdown",
   "id": "fc5dc7f0",
   "metadata": {},
   "source": [
    "6. What is the difference between random.randint(a,b) and random.choice(list)? Give an example of each."
   ]
  },
  {
   "cell_type": "code",
   "execution_count": null,
   "id": "12424f15",
   "metadata": {},
   "outputs": [],
   "source": []
  },
  {
   "cell_type": "markdown",
   "id": "6fe81fa1",
   "metadata": {},
   "source": [
    "7. Write a Python code that rolls 2 dice and prints their sum."
   ]
  },
  {
   "cell_type": "code",
   "execution_count": null,
   "id": "8ba2bc37",
   "metadata": {},
   "outputs": [],
   "source": []
  },
  {
   "cell_type": "markdown",
   "id": "76c29724",
   "metadata": {},
   "source": [
    "### JavaScript Version Questions\n",
    "\n",
    "1. Write the description of getRandomInRange(min, max)\n",
    "\n",
    "```javascript\n",
    "//Describe what this function does and its parameters\n",
    "```"
   ]
  },
  {
   "cell_type": "code",
   "execution_count": null,
   "id": "2d549051",
   "metadata": {},
   "outputs": [],
   "source": []
  },
  {
   "cell_type": "markdown",
   "id": "b6d7b2e6",
   "metadata": {},
   "source": [
    "2. Simulate drawing two cards from values 1-10 and show all possible total values\n",
    "\n",
    "```javascript\n",
    "// Card values: 1 through 10\n",
    "// Write code to show all possible totals when drawing two cards\n",
    "```"
   ]
  },
  {
   "cell_type": "code",
   "execution_count": null,
   "id": "787f32ed",
   "metadata": {},
   "outputs": [],
   "source": []
  },
  {
   "cell_type": "markdown",
   "id": "44379dbb",
   "metadata": {},
   "source": [
    "3. Create a decision maker where \"Definitely\" appears 30% of the time\n",
    "\n",
    "```javascript\n",
    "// Other responses: \"Probably\", \"Unlikely\", \"Never\"\n",
    "// Write code where \"Definitely\" has 30% probability\n",
    "```"
   ]
  },
  {
   "cell_type": "code",
   "execution_count": null,
   "id": "a6630e99",
   "metadata": {},
   "outputs": [],
   "source": []
  },
  {
   "cell_type": "markdown",
   "id": "dc035cfa",
   "metadata": {},
   "source": [
    "4. Write JavaScript code to simulate 10 coin flips, where 0 = Heads and 1 = Tails."
   ]
  },
  {
   "cell_type": "code",
   "execution_count": null,
   "id": "5fc66526",
   "metadata": {},
   "outputs": [],
   "source": []
  },
  {
   "cell_type": "markdown",
   "id": "db636ca0",
   "metadata": {},
   "source": [
    "5. What does this code output, and what is the range of the possible values?\n",
    "JS\n",
    "let num = Math.floor(Math.random() * 8) + 1;\n",
    "console.log(num);"
   ]
  },
  {
   "cell_type": "code",
   "execution_count": null,
   "id": "e2fc7350",
   "metadata": {},
   "outputs": [],
   "source": []
  },
  {
   "cell_type": "markdown",
   "id": "64b28f54",
   "metadata": {},
   "source": [
    "## 💎 Diamond Hacks(optional)\n",
    "\n",
    "Create a function that takes an object with decision options and their desired probabilities (as percentages), and returns a randomly selected decision based on those weights.\n"
   ]
  },
  {
   "cell_type": "markdown",
   "id": "5da48a98",
   "metadata": {},
   "source": [
    "## 🎨 Creative Hacks\n",
    "\n",
    "You can create your own question if you want and commit it to us if you want\n"
   ]
  }
 ],
 "metadata": {
  "kernelspec": {
   "display_name": "venv (3.12.3)",
   "language": "python",
   "name": "python3"
  },
  "language_info": {
   "name": "python",
   "version": "3.12.3"
  }
 },
 "nbformat": 4,
 "nbformat_minor": 5
}
