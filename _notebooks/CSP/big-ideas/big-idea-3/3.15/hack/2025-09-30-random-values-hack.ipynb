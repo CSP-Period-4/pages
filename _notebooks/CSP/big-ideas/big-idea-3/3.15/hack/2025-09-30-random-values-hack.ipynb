{
 "cells": [
  {
   "cell_type": "markdown",
   "id": "6e07d1a7",
   "metadata": {},
   "source": [
    "---\n",
    "layout: post\n",
    "title: \"Escape Room 3.15 — Hacks & Extensions\"\n",
    "description: \"Extended challenges and hacks for CSP 3.15 Escape Room - Random Values\"\n",
    "type: hacks\n",
    "toc: true\n",
    "comments: true\n",
    "permalink: /csp/escape-room/hacks\n",
    "author: Team Debuggers\n",
    "---\n"
   ]
  },
  {
   "cell_type": "markdown",
   "id": "9f874417",
   "metadata": {},
   "source": [
    "# 🚀 Escape Room Hacks & Extensions\n",
    "\n",
    "<div style=\"background: linear-gradient(135deg, #6bb3ffff 0%, #24ee50ff 100%); color: white; padding: 20px; border-radius: 10px; text-align: center; margin: 20px 0;\">\n",
    "    <h2 style=\"margin: 0;\">💎 Master Level Challenges 💎</h2>\n",
    "    <p style=\"margin: 10px 0;\">Go beyond the escape room with advanced Random Value challenges!</p>\n",
    "</div>\n"
   ]
  },
  {
   "cell_type": "markdown",
   "id": "ca25df93",
   "metadata": {},
   "source": [
    "## 📋 Overview\n",
    "\n",
    "Congratulations on completing the escape room! These hacks are designed to:\n",
    "\n",
    "1. **Extend your learning** with more advanced algorithms\n",
    "2. **Apply concepts** to real-world scenarios\n",
    "3. **Create your own** string manipulation challenges\n",
    "4. **Explore optimization** and algorithm design\n",
    "\n",
    "### 🎯 Hack Categories:\n",
    "\n",
    "- **🔥 Fire Hacks**: Required challenges (choose 2/3)\n",
    "- **💎 Diamond Hacks**: Advanced optional challenges\n",
    "- **🎨 Creative Hacks**: Design your own problems\n",
    "\n",
    "---\n"
   ]
  },
  {
   "cell_type": "markdown",
   "id": "d97adba3",
   "metadata": {},
   "source": [
    "## Hacks\n",
    "\n",
    "### 🔥 Fire Hacks (choose 2/3)\n"
   ]
  },
  {
   "cell_type": "markdown",
   "id": "76c29724",
   "metadata": {},
   "source": [
    "1. Write the description of RADOM(a,b)\n"
   ]
  },
  {
   "cell_type": "markdown",
   "id": "af88b5e6",
   "metadata": {},
   "source": [
    "\n"
   ]
  },
  {
   "cell_type": "markdown",
   "id": "13facbbb",
   "metadata": {},
   "source": [
    "2. If the up side of a coin is 1 and the down side of it is 0. Type the code segments of all valuable result when fliping a coin two times.\n"
   ]
  },
  {
   "cell_type": "code",
   "execution_count": null,
   "id": "c35f64a0",
   "metadata": {
    "vscode": {
     "languageId": "plaintext"
    }
   },
   "outputs": [],
   "source": [
    "e.x: rolling a dice three times (Sum=RADOM(1,6)+RADOM(1,6)+RADOM(1,6))\n",
    "Sum= "
   ]
  },
  {
   "cell_type": "markdown",
   "id": "918d9cce",
   "metadata": {},
   "source": [
    "3.\n"
   ]
  }
 ],
 "metadata": {
  "language_info": {
   "name": "python"
  }
 },
 "nbformat": 4,
 "nbformat_minor": 5
}
