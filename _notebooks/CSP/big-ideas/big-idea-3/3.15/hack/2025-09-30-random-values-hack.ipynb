{
 "cells": [
  {
   "cell_type": "markdown",
   "id": "6e07d1a7",
   "metadata": {},
   "source": [
    "---\n",
    "layout: post\n",
    "title: \"Escape Room 3.15 — Hacks & Extensions\"\n",
    "description: \"Extended challenges and hacks for CSP 3.15 Escape Room - Random Values\"\n",
    "type: hacks\n",
    "toc: true\n",
    "comments: true\n",
    "permalink: /csp/escape-room/hacks\n",
    "author: Team Debuggers\n",
    "---\n"
   ]
  },
  {
   "cell_type": "markdown",
   "id": "9f874417",
   "metadata": {},
   "source": [
    "# 🚀 Escape Room Hacks & Extensions\n",
    "\n",
    "<div style=\"background: linear-gradient(135deg, #6bb3ffff 0%, #24ee50ff 100%); color: white; padding: 20px; border-radius: 10px; text-align: center; margin: 20px 0;\">\n",
    "    <h2 style=\"margin: 0;\">💎 Master Level Challenges 💎</h2>\n",
    "    <p style=\"margin: 10px 0;\">Go beyond the escape room with advanced Random Value challenges!</p>\n",
    "</div>\n"
   ]
  },
  {
   "cell_type": "markdown",
   "id": "ca25df93",
   "metadata": {},
   "source": [
    "## 📋 Overview\n",
    "\n",
    "Congratulations on completing the escape room! These hacks are designed to:\n",
    "\n",
    "1. **Extend your learning** with more advanced algorithms\n",
    "2. **Apply concepts** to real-world scenarios\n",
    "3. **Create your own** string manipulation challenges\n",
    "4. **Explore optimization** and algorithm design\n",
    "\n",
    "### 🎯 Hack Categories:\n",
    "\n",
    "- **🔥 Fire Hacks**: Required challenges (choose 2/3)\n",
    "- **💎 Diamond Hacks**: Advanced optional challenges\n",
    "- **🎨 Creative Hacks**: Design your own problems\n",
    "\n",
    "---\n"
   ]
  },
  {
   "cell_type": "markdown",
   "id": "d97adba3",
   "metadata": {},
   "source": [
    "## Hacks\n",
    "\n",
    "## 🔥 Fire Hacks (choose 2/3)\n"
   ]
  },
  {
   "cell_type": "markdown",
   "id": "c262a95c",
   "metadata": {},
   "source": [
    "### Randomness explorer Peusdocode Questions\n",
    "\n",
    "1. Write the description about Randomness in computing and the definition of RANDOM(a,b)\n",
    "\n",
    "2. Pseudocode Random Values practice, generate your own Pseudocode Random Values and define the possible values generated, then give the specific proability of each value\n",
    "\n",
    "3. Pseudocode/Concept Practice, EX, given RANDOM(3,7), what values can be produced? What is the probability of getting 4 from RANDOM(3,7)? If Random (4,4) is called, what is the output and its probability? If you row Random(3,7) 100 times,  how many times would you expect to get a 6?\n",
    "\n"
   ]
  },
  {
   "cell_type": "markdown",
   "id": "6e5c8bef",
   "metadata": {},
   "source": [
    "### Python Version Questions\n",
    "\n",
    "1. Write the description of random_range(start, end)\n",
    "\n",
    "```python\n",
    "# Describe what this function does and its parameters\n",
    "```\n",
    "\n",
    "2. Simulate rolling two dice and show all possible sum outcomes\n",
    "\n",
    "```python\n",
    "# Die faces: 1, 2, 3, 4, 5, 6\n",
    "# Write code to show all possible sums when rolling two dice\n",
    "```\n",
    "\n",
    "3. Create a fortune teller where \"Try Again\" appears 40% of the time\n",
    "\n",
    "```python\n",
    "# Other responses: \"Yes\", \"No\", \"Maybe\"\n",
    "# Write code where \"Try Again\" has 40% probability\n",
    "```\n"
   ]
  },
  {
   "cell_type": "markdown",
   "id": "76c29724",
   "metadata": {},
   "source": [
    "### JavaScript Version Questions\n",
    "\n",
    "1. Write the description of getRandomInRange(min, max)\n",
    "\n",
    "```javascript\n",
    "//Describe what this function does and its parameters\n",
    "```\n",
    "\n",
    "2. Simulate drawing two cards from values 1-10 and show all possible total values\n",
    "\n",
    "```javascript\n",
    "// Card values: 1 through 10\n",
    "// Write code to show all possible totals when drawing two cards\n",
    "```\n",
    "\n",
    "3. Create a decision maker where \"Definitely\" appears 30% of the time\n",
    "\n",
    "```javascript\n",
    "// Other responses: \"Probably\", \"Unlikely\", \"Never\"\n",
    "// Write code where \"Definitely\" has 30% probability\n",
    "```\n"
   ]
  },
  {
   "cell_type": "markdown",
   "id": "64b28f54",
   "metadata": {},
   "source": [
    "## 💎 Diamond Hacks(optional)\n",
    "\n",
    "Create a function that takes an object with decision options and their desired probabilities (as percentages), and returns a randomly selected decision based on those weights.\n"
   ]
  },
  {
   "cell_type": "markdown",
   "id": "5da48a98",
   "metadata": {},
   "source": [
    "## 🎨 Creative Hacks\n",
    "\n",
    "You can create your own question if you want and commit it to us if you want\n"
   ]
  }
 ],
 "metadata": {
  "language_info": {
   "name": "python"
  }
 },
 "nbformat": 4,
 "nbformat_minor": 5
}
